{
 "cells": [
  {
   "cell_type": "markdown",
   "id": "f21b0f9a-856a-4743-873f-81909c2346db",
   "metadata": {},
   "source": [
    "## Train and Test Split "
   ]
  },
  {
   "cell_type": "markdown",
   "id": "4c0be5ac-eb72-4b76-98e1-b11207d4f983",
   "metadata": {},
   "source": [
    "##### Since we have data worth 2 years: 2016 & 2017 and we are data rich; we will split the data into 2 parts: training on 2016 data and predicting/testing for 2017. "
   ]
  },
  {
   "cell_type": "code",
   "execution_count": 1,
   "id": "f3ed400d-cb82-4ba4-adc9-0d0122bc0bc2",
   "metadata": {},
   "outputs": [],
   "source": [
    "# Importing the required libraries\n",
    "import pandas as pd\n",
    "import numpy as np"
   ]
  },
  {
   "cell_type": "code",
   "execution_count": 3,
   "id": "fbc60c08-973e-433f-bd7e-59033436fdbe",
   "metadata": {},
   "outputs": [],
   "source": [
    "# Importing the dataset \n",
    "data = pd.read_csv(\"../data/cleaned/cleaned_all_data.csv\")\n",
    "data['date'] = pd.to_datetime(data['date'])"
   ]
  },
  {
   "cell_type": "code",
   "execution_count": 4,
   "id": "db1d2257-88c3-4def-8d8c-36e1b90f46d6",
   "metadata": {},
   "outputs": [
    {
     "name": "stderr",
     "output_type": "stream",
     "text": [
      "/var/folders/46/4q6_331j7qx5_bf3yg_mv9km0000gn/T/ipykernel_83131/3385499102.py:3: SettingWithCopyWarning: \n",
      "A value is trying to be set on a copy of a slice from a DataFrame.\n",
      "Try using .loc[row_indexer,col_indexer] = value instead\n",
      "\n",
      "See the caveats in the documentation: https://pandas.pydata.org/pandas-docs/stable/user_guide/indexing.html#returning-a-view-versus-a-copy\n",
      "  train['date'] = pd.to_datetime(train['date'])\n",
      "/var/folders/46/4q6_331j7qx5_bf3yg_mv9km0000gn/T/ipykernel_83131/3385499102.py:6: SettingWithCopyWarning: \n",
      "A value is trying to be set on a copy of a slice from a DataFrame.\n",
      "Try using .loc[row_indexer,col_indexer] = value instead\n",
      "\n",
      "See the caveats in the documentation: https://pandas.pydata.org/pandas-docs/stable/user_guide/indexing.html#returning-a-view-versus-a-copy\n",
      "  test['date'] = pd.to_datetime(test['date'])\n"
     ]
    }
   ],
   "source": [
    "# Splitting the dataset \n",
    "train = data[data['date'] < '2017-01-01 00:00:00']\n",
    "train['date'] = pd.to_datetime(train['date'])\n",
    "\n",
    "test = data[data['date'] >= '2017-01-01 00:00:00']\n",
    "test['date'] = pd.to_datetime(test['date'])"
   ]
  },
  {
   "cell_type": "code",
   "execution_count": 6,
   "id": "8870a8ee-c8c5-4777-9649-beb3f3c2a9aa",
   "metadata": {},
   "outputs": [
    {
     "name": "stdout",
     "output_type": "stream",
     "text": [
      "(447618, 21)\n",
      "(446395, 21)\n"
     ]
    }
   ],
   "source": [
    "#Checking the shape \n",
    "print(train.shape)\n",
    "print(test.shape)"
   ]
  },
  {
   "cell_type": "code",
   "execution_count": 7,
   "id": "d7f1419d-a3cb-44d2-9594-63a9b6348860",
   "metadata": {},
   "outputs": [],
   "source": [
    "#Saving the files \n",
    "train.to_csv(\"../data/cleaned/train.csv\")\n",
    "test.to_csv(\"../data/cleaned/test.csv\")"
   ]
  }
 ],
 "metadata": {
  "kernelspec": {
   "display_name": "Python 3 (ipykernel)",
   "language": "python",
   "name": "python3"
  },
  "language_info": {
   "codemirror_mode": {
    "name": "ipython",
    "version": 3
   },
   "file_extension": ".py",
   "mimetype": "text/x-python",
   "name": "python",
   "nbconvert_exporter": "python",
   "pygments_lexer": "ipython3",
   "version": "3.11.7"
  }
 },
 "nbformat": 4,
 "nbformat_minor": 5
}
